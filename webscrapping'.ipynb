{
  "nbformat": 4,
  "nbformat_minor": 0,
  "metadata": {
    "colab": {
      "name": "Untitled2.ipynb",
      "provenance": [],
      "collapsed_sections": [],
      "toc_visible": true
    },
    "kernelspec": {
      "name": "python3",
      "display_name": "Python 3"
    }
  },
  "cells": [
    {
      "cell_type": "markdown",
      "metadata": {
        "id": "ZMfxPTu_mVI7"
      },
      "source": [
        "# New Section"
      ]
    },
    {
      "cell_type": "code",
      "metadata": {
        "id": "svYZbaFToNBl"
      },
      "source": [
        "import pandas as pd\r\n",
        "import numpy as np\r\n",
        "import matplotlib.pyplot as plt\r\n",
        "from sklearn.feature_extraction.text import CountVectorizer\r\n",
        "import nltk\r\n",
        "import string\r\n",
        "import re\r\n",
        "from Sastrawi.StopWordRemover.StopWordRemoverFactory import StopWordRemoverFactory"
      ],
      "execution_count": null,
      "outputs": []
    },
    {
      "cell_type": "markdown",
      "metadata": {
        "id": "ZnzP4OEcobvB"
      },
      "source": [
        ""
      ]
    },
    {
      "cell_type": "code",
      "metadata": {
        "id": "qZMiNxAToOAo"
      },
      "source": [
        ""
      ],
      "execution_count": 84,
      "outputs": []
    },
    {
      "cell_type": "code",
      "metadata": {
        "id": "tFuOKJFgoehe"
      },
      "source": [
        "import tweepy\r\n",
        "import re\r\n",
        "from textblob import TextBlob"
      ],
      "execution_count": null,
      "outputs": []
    },
    {
      "cell_type": "code",
      "metadata": {
        "id": "wcqDtuspp0xo"
      },
      "source": [
        "consumer_key = 'CpcVeQXJG48niINXMcE0KOJrp'\r\n",
        "consumer_secret = 'gseHZ2JNix6cUsHJHg9n2FGSDvmuVBMM4nxHemgD5gU9SfZg5C'\r\n",
        "access_token ='1069889033981972480-VsXFweSfWwYORIi7otWVMn5pXXQj5p'\r\n",
        "access_secret = 'ubNAvM76iSiHQxWDPkg2nBtvFxfjcYW3cRqjrWe0wr9ri'"
      ],
      "execution_count": null,
      "outputs": []
    },
    {
      "cell_type": "code",
      "metadata": {
        "id": "so8ajYT6p37r"
      },
      "source": [
        "auth = tweepy.OAuthHandler(consumer_key, consumer_secret)\r\n",
        "auth.set_access_token(access_token, access_secret)\r\n",
        "api = tweepy.API(auth)"
      ],
      "execution_count": null,
      "outputs": []
    },
    {
      "cell_type": "code",
      "metadata": {
        "id": "3yXQgUYOqEQP"
      },
      "source": [
        "hasilSearch = api.search(q=\"Harbolnas\", lang=\"en\",count= 1000)"
      ],
      "execution_count": null,
      "outputs": []
    },
    {
      "cell_type": "code",
      "metadata": {
        "id": "D2i0CCZ2qOCE"
      },
      "source": [
        "hasilAnalisis =[]\r\n",
        "\r\n",
        "for tweet in hasilSearch:\r\n",
        "  tweet_properties = {}\r\n",
        "  tweet_properties[\"tanggal_tweet\"] = tweet.created_at\r\n",
        "  tweet_properties[\"pengguna\"] = tweet.user.screen_name\r\n",
        "  tweet_properties[\"isi_tweet\"] = tweet.text\r\n",
        "  tweet_bersih = ' '.join(re.sub(\"(@[A-Za-z0-9]+)|([^0-9A-Za-z \\t])|(\\w+:\\/\\/\\S+)\",\" \",tweet.text).split())\r\n",
        "  \r\n",
        "  analysis = TextBlob(tweet_bersih)\r\n",
        "  \r\n",
        "  if analysis.sentiment.polarity > 0.0 :\r\n",
        "    tweet_properties[\"sentiment\"] = \"positif\"\r\n",
        "  elif analysis.sentiment.polarity == 0.0:\r\n",
        "    tweet_properties[\"sentiment\"] = \"netral\"\r\n",
        "  else :\r\n",
        "    tweet_properties[\"sentiment\"] = \"negative\"\r\n",
        "\r\n",
        "  if tweet.retweet_count > 0:\r\n",
        "    if tweet_properties not in hasilAnalisis:\r\n",
        "      hasilAnalisis.append(tweet_properties)\r\n",
        "  else:\r\n",
        "    hasilAnalisis.append(tweet_properties)"
      ],
      "execution_count": null,
      "outputs": []
    },
    {
      "cell_type": "code",
      "metadata": {
        "id": "kFYSPUIirf4u"
      },
      "source": [
        "tweet_positif = [t for t in hasilAnalisis if t[\"sentiment\"]==\"positif\"]\r\n",
        "tweet_netral = [t for t in hasilAnalisis if t[\"sentiment\"]==\"netral\"]\r\n",
        "tweet_negative = [t for t in hasilAnalisis if t[\"sentiment\"]==\"negative\"]"
      ],
      "execution_count": null,
      "outputs": []
    },
    {
      "cell_type": "code",
      "metadata": {
        "colab": {
          "base_uri": "https://localhost:8080/"
        },
        "id": "jdurmybst_3i",
        "outputId": "5fb879a7-2061-479d-b47a-23522b51f7d3"
      },
      "source": [
        "print(\"Hasil Sentiment\")\r\n",
        "print(\"positif: \",len(tweet_positif))\r\n",
        "print(\"netral: \",len(tweet_netral))\r\n",
        "print(\"negatif: \",len(tweet_negative))"
      ],
      "execution_count": null,
      "outputs": [
        {
          "output_type": "stream",
          "text": [
            "Hasil Sentiment\n",
            "positif:  7\n",
            "netral:  15\n",
            "negatif:  76\n"
          ],
          "name": "stdout"
        }
      ]
    },
    {
      "cell_type": "code",
      "metadata": {
        "id": "28AGR3QLvYG8"
      },
      "source": [
        ""
      ],
      "execution_count": null,
      "outputs": []
    },
    {
      "cell_type": "code",
      "metadata": {
        "id": "EziygR2Zut7B"
      },
      "source": [
        ""
      ],
      "execution_count": null,
      "outputs": []
    }
  ]
}